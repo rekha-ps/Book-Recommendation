{
 "cells": [
  {
   "cell_type": "code",
   "execution_count": 2,
   "id": "6094a68c",
   "metadata": {},
   "outputs": [],
   "source": [
    "import pandas as pd\n",
    "import numpy as np\n",
    "import math\n",
    "from math import sqrt,pow\n",
    "import matplotlib.pyplot as plt\n",
    "from decimal import Decimal\n",
    "import scipy\n",
    "from scipy import stats\n",
    "from scipy import spatial\n",
    "from scipy.spatial import distance\n",
    "from scipy.stats import pearsonr\n",
    "from scipy.sparse import csr_matrix\n",
    "from sklearn.neighbors import NearestNeighbors\n",
    "from sklearn.feature_extraction.text import TfidfVectorizer\n",
    "from sklearn.metrics.pairwise import cosine_similarity"
   ]
  },
  {
   "cell_type": "code",
   "execution_count": 3,
   "id": "3a37cbf6",
   "metadata": {},
   "outputs": [],
   "source": [
    "class BookRecommendation:\n",
    "    \n",
    "    def __init__(self, dataset):\n",
    "        self.load_datasets()\n",
    "            \n",
    "    def load_datasets(self):\n",
    "        #Load data into class from Books dataset#\n",
    "        self.books = pd.read_csv('Books.csv', sep=';', error_bad_lines = False, warn_bad_lines=False)\n",
    "        self.books.columns = ['ISBN','Book-Title','Book-Author','YearofPublication','Publisher','Image-URL-S','Image-URL-M','Image-URL-L'] \n",
    "        self.users = pd.read_csv('Users.csv', sep=';', error_bad_lines = False, warn_bad_lines=False)\n",
    "        self.users.columns = ['UserId', 'Location', 'Age']\n",
    "        self.ratings = pd.read_csv('Book-Ratings.csv', sep=';', error_bad_lines = False, warn_bad_lines=False)\n",
    "        self.ratings.columns = ['UserId', 'ISBN', 'BookRating']     \n",
    "        \n",
    "        \n",
    "    def target_user_info(self,user_id):\n",
    "        check_ratings = pd.DataFrame(self.ratings[self.ratings['UserId'] == user_id])\n",
    "        merge_details = check_ratings.merge(self.books,on='ISBN')\n",
    "        merge_details = merge_details.merge(self.users,on='UserId')\n",
    "        return merge_details\n",
    "    \n",
    "    def user_ratings(self,user_id1,user_id2):\n",
    "        userid1 = self.target_user_info(user_id1)\n",
    "        userid2 = self.target_user_info(user_id2)\n",
    "        common_ratings = pd.merge(userid1,userid1, how='inner', on=['ISBN'])[['UserId_x', 'ISBN', 'BookRating_x', 'Book-Title_x', 'Location_x', 'Age_x', 'UserId_y',\n",
    "       'BookRating_y', 'Location_y', 'Age_y']]\n",
    "        return common_ratings.head()\n",
    "    \n",
    "    def com_user_ratings(self,user_id1,user_id2):\n",
    "        userid1 = self.target_user_info(user_id1)\n",
    "        userid2 = self.target_user_info(user_id2)\n",
    "        common_ratings = pd.merge(userid1,userid2, how='inner', on=['ISBN'])[['UserId_x', 'ISBN', 'BookRating_x', 'Book-Title_x', 'Location_x', 'Age_x', 'UserId_y',\n",
    "       'BookRating_y', 'Location_y', 'Age_y']]\n",
    "        return list(common_ratings['BookRating_x']),list(common_ratings['BookRating_y'])\n",
    "        \n",
    "    #calculating squared euclidean distance using com_user_ratings\n",
    "    def squared_euclidean_similarity(self,user_id1, user_id2):\n",
    "        user1, user2 = self.com_user_ratings(user_id1, user_id2)\n",
    "        result = sqrt(sum(pow(a-b,2) for a, b in zip(user1, user2)))\n",
    "        return result\n",
    "    \n",
    "    #calculating minkowski distance\n",
    "    def minkowski_distance_similarity(self,user_id1, user_id2):    \n",
    "        def p_root(x, y):\n",
    "            root = 1 / float(y)\n",
    "            return round(Decimal(x) ** Decimal(root), 3)\n",
    "        \n",
    "        user1, user2 = self.com_user_ratings(user_id1, user_id2)\n",
    "        result = (p_root(sum(pow(abs(a - b), 3) for a, b in zip(user1, user2)), 3))\n",
    "        return result\n",
    "    \n",
    "    #calculating hamming distance\n",
    "    def hamming_distance_similarity(self,user_id1, user_id2):\n",
    "        user1, user2 = self.com_user_ratings(user_id1, user_id2)\n",
    "        result = distance.hamming(user1, user2)\n",
    "        return result\n",
    "    \n",
    "    def pearson_correlation(self,user_id1, user_id2):\n",
    "        user1, user2 = self.com_user_ratings(user_id1, user_id2)\n",
    "        result = pearsonr(user1, user2)\n",
    "        return result\n",
    "\n",
    "    def spearman_correlation_distance(self,user_id1, user_id2):\n",
    "        user1, user2 = self.com_user_ratings(user_id1, user_id2)\n",
    "        result = stats.spearmanr(user1, user2)\n",
    "        return result\n",
    "    \n",
    "    def chebyshave_distance(self,user_id1, user_id2):\n",
    "        user1, user2 = self.com_user_ratings(user_id1, user_id2)\n",
    "        result = distance.chebyshev(user1, user2)\n",
    "        return result\n",
    "    \n",
    "    def book_identify(self, isbn):\n",
    "        book = pd.DataFrame(self.books[self.books[\"ISBN\"]==isbn])\n",
    "        return book\n",
    "\n",
    "    def cosine_similarity_new(self, book1_isbn, book2_isbn):\n",
    "        book1 = self.book_identify(book1_isbn)\n",
    "        book2 = self.book_identify(book2_isbn)\n",
    "        tfidf_vector = TfidfVectorizer()\n",
    "        tfidf_matrix = tfidf_vector.fit_transform(book1)\n",
    "        result_cos = cosine_similarity(tfidf_matrix[0:1], tfidf_matrix)\n",
    "        result = result_cos[0][1]\n",
    "        return result\n",
    "      \n",
    "     # Ratings count of most rated books are print in descending order  \n",
    "    def print_most_rated_books(self,number=11):\n",
    "        most_rated = self.ratings.groupby('ISBN')['BookRating'].count().nlargest(number)\n",
    "        most_rated_books = pd.merge(most_rated,self.books,on='ISBN')\n",
    "        return most_rated_books   \n",
    "    \n",
    "    def plot_ratings(self):\n",
    "        self.ratings.BookRating.value_counts(sort=False).plot(kind='bar')\n",
    "        plt.title('Rating-Distribution\\n')\n",
    "        plt.xlabel('Ratings')\n",
    "        plt.ylabel('Count of Ratings')\n",
    "        plt.show()\n",
    "    \n",
    "    def age_plot(self):\n",
    "        self.users.Age.hist(bins=[0, 10, 20, 30, 40, 50, 100])\n",
    "        plt.title('Age-Distribution\\n')\n",
    "        plt.xlabel('Age-Range')\n",
    "        plt.ylabel('Count of Users')\n",
    "        plt.show()        "
   ]
  },
  {
   "cell_type": "code",
   "execution_count": 4,
   "id": "90aa68b5",
   "metadata": {},
   "outputs": [
    {
     "name": "stderr",
     "output_type": "stream",
     "text": [
      "C:\\Users\\Rekha\\anaconda3\\lib\\site-packages\\IPython\\core\\interactiveshell.py:3437: DtypeWarning: Columns (3) have mixed types.Specify dtype option on import or set low_memory=False.\n",
      "  exec(code_obj, self.user_global_ns, self.user_ns)\n"
     ]
    }
   ],
   "source": [
    "recom_sys = BookRecommendation(True)"
   ]
  },
  {
   "cell_type": "code",
   "execution_count": 5,
   "id": "7cc3125b",
   "metadata": {},
   "outputs": [
    {
     "data": {
      "text/html": [
       "<div>\n",
       "<style scoped>\n",
       "    .dataframe tbody tr th:only-of-type {\n",
       "        vertical-align: middle;\n",
       "    }\n",
       "\n",
       "    .dataframe tbody tr th {\n",
       "        vertical-align: top;\n",
       "    }\n",
       "\n",
       "    .dataframe thead th {\n",
       "        text-align: right;\n",
       "    }\n",
       "</style>\n",
       "<table border=\"1\" class=\"dataframe\">\n",
       "  <thead>\n",
       "    <tr style=\"text-align: right;\">\n",
       "      <th></th>\n",
       "      <th>ISBN</th>\n",
       "      <th>Book-Title</th>\n",
       "      <th>Book-Author</th>\n",
       "      <th>YearofPublication</th>\n",
       "      <th>Publisher</th>\n",
       "      <th>Image-URL-S</th>\n",
       "      <th>Image-URL-M</th>\n",
       "      <th>Image-URL-L</th>\n",
       "    </tr>\n",
       "  </thead>\n",
       "  <tbody>\n",
       "    <tr>\n",
       "      <th>0</th>\n",
       "      <td>0195153448</td>\n",
       "      <td>Classical Mythology</td>\n",
       "      <td>Mark P. O. Morford</td>\n",
       "      <td>2002</td>\n",
       "      <td>Oxford University Press</td>\n",
       "      <td>http://images.amazon.com/images/P/0195153448.0...</td>\n",
       "      <td>http://images.amazon.com/images/P/0195153448.0...</td>\n",
       "      <td>http://images.amazon.com/images/P/0195153448.0...</td>\n",
       "    </tr>\n",
       "    <tr>\n",
       "      <th>1</th>\n",
       "      <td>0002005018</td>\n",
       "      <td>Clara Callan</td>\n",
       "      <td>Richard Bruce Wright</td>\n",
       "      <td>2001</td>\n",
       "      <td>HarperFlamingo Canada</td>\n",
       "      <td>http://images.amazon.com/images/P/0002005018.0...</td>\n",
       "      <td>http://images.amazon.com/images/P/0002005018.0...</td>\n",
       "      <td>http://images.amazon.com/images/P/0002005018.0...</td>\n",
       "    </tr>\n",
       "    <tr>\n",
       "      <th>2</th>\n",
       "      <td>0060973129</td>\n",
       "      <td>Decision in Normandy</td>\n",
       "      <td>Carlo D'Este</td>\n",
       "      <td>1991</td>\n",
       "      <td>HarperPerennial</td>\n",
       "      <td>http://images.amazon.com/images/P/0060973129.0...</td>\n",
       "      <td>http://images.amazon.com/images/P/0060973129.0...</td>\n",
       "      <td>http://images.amazon.com/images/P/0060973129.0...</td>\n",
       "    </tr>\n",
       "    <tr>\n",
       "      <th>3</th>\n",
       "      <td>0374157065</td>\n",
       "      <td>Flu: The Story of the Great Influenza Pandemic...</td>\n",
       "      <td>Gina Bari Kolata</td>\n",
       "      <td>1999</td>\n",
       "      <td>Farrar Straus Giroux</td>\n",
       "      <td>http://images.amazon.com/images/P/0374157065.0...</td>\n",
       "      <td>http://images.amazon.com/images/P/0374157065.0...</td>\n",
       "      <td>http://images.amazon.com/images/P/0374157065.0...</td>\n",
       "    </tr>\n",
       "    <tr>\n",
       "      <th>4</th>\n",
       "      <td>0393045218</td>\n",
       "      <td>The Mummies of Urumchi</td>\n",
       "      <td>E. J. W. Barber</td>\n",
       "      <td>1999</td>\n",
       "      <td>W. W. Norton &amp;amp; Company</td>\n",
       "      <td>http://images.amazon.com/images/P/0393045218.0...</td>\n",
       "      <td>http://images.amazon.com/images/P/0393045218.0...</td>\n",
       "      <td>http://images.amazon.com/images/P/0393045218.0...</td>\n",
       "    </tr>\n",
       "  </tbody>\n",
       "</table>\n",
       "</div>"
      ],
      "text/plain": [
       "         ISBN                                         Book-Title  \\\n",
       "0  0195153448                                Classical Mythology   \n",
       "1  0002005018                                       Clara Callan   \n",
       "2  0060973129                               Decision in Normandy   \n",
       "3  0374157065  Flu: The Story of the Great Influenza Pandemic...   \n",
       "4  0393045218                             The Mummies of Urumchi   \n",
       "\n",
       "            Book-Author YearofPublication                   Publisher  \\\n",
       "0    Mark P. O. Morford              2002     Oxford University Press   \n",
       "1  Richard Bruce Wright              2001       HarperFlamingo Canada   \n",
       "2          Carlo D'Este              1991             HarperPerennial   \n",
       "3      Gina Bari Kolata              1999        Farrar Straus Giroux   \n",
       "4       E. J. W. Barber              1999  W. W. Norton &amp; Company   \n",
       "\n",
       "                                         Image-URL-S  \\\n",
       "0  http://images.amazon.com/images/P/0195153448.0...   \n",
       "1  http://images.amazon.com/images/P/0002005018.0...   \n",
       "2  http://images.amazon.com/images/P/0060973129.0...   \n",
       "3  http://images.amazon.com/images/P/0374157065.0...   \n",
       "4  http://images.amazon.com/images/P/0393045218.0...   \n",
       "\n",
       "                                         Image-URL-M  \\\n",
       "0  http://images.amazon.com/images/P/0195153448.0...   \n",
       "1  http://images.amazon.com/images/P/0002005018.0...   \n",
       "2  http://images.amazon.com/images/P/0060973129.0...   \n",
       "3  http://images.amazon.com/images/P/0374157065.0...   \n",
       "4  http://images.amazon.com/images/P/0393045218.0...   \n",
       "\n",
       "                                         Image-URL-L  \n",
       "0  http://images.amazon.com/images/P/0195153448.0...  \n",
       "1  http://images.amazon.com/images/P/0002005018.0...  \n",
       "2  http://images.amazon.com/images/P/0060973129.0...  \n",
       "3  http://images.amazon.com/images/P/0374157065.0...  \n",
       "4  http://images.amazon.com/images/P/0393045218.0...  "
      ]
     },
     "execution_count": 5,
     "metadata": {},
     "output_type": "execute_result"
    }
   ],
   "source": [
    "recom_sys.books.head()"
   ]
  },
  {
   "cell_type": "code",
   "execution_count": 6,
   "id": "813d8eed",
   "metadata": {},
   "outputs": [
    {
     "data": {
      "text/plain": [
       "(271360, 8)"
      ]
     },
     "execution_count": 6,
     "metadata": {},
     "output_type": "execute_result"
    }
   ],
   "source": [
    "recom_sys.books.shape"
   ]
  },
  {
   "cell_type": "code",
   "execution_count": 7,
   "id": "01232cd2",
   "metadata": {},
   "outputs": [
    {
     "data": {
      "text/html": [
       "<div>\n",
       "<style scoped>\n",
       "    .dataframe tbody tr th:only-of-type {\n",
       "        vertical-align: middle;\n",
       "    }\n",
       "\n",
       "    .dataframe tbody tr th {\n",
       "        vertical-align: top;\n",
       "    }\n",
       "\n",
       "    .dataframe thead th {\n",
       "        text-align: right;\n",
       "    }\n",
       "</style>\n",
       "<table border=\"1\" class=\"dataframe\">\n",
       "  <thead>\n",
       "    <tr style=\"text-align: right;\">\n",
       "      <th></th>\n",
       "      <th>UserId</th>\n",
       "      <th>Location</th>\n",
       "      <th>Age</th>\n",
       "    </tr>\n",
       "  </thead>\n",
       "  <tbody>\n",
       "    <tr>\n",
       "      <th>0</th>\n",
       "      <td>1</td>\n",
       "      <td>nyc, new york, usa</td>\n",
       "      <td>NaN</td>\n",
       "    </tr>\n",
       "    <tr>\n",
       "      <th>1</th>\n",
       "      <td>2</td>\n",
       "      <td>stockton, california, usa</td>\n",
       "      <td>18.0</td>\n",
       "    </tr>\n",
       "    <tr>\n",
       "      <th>2</th>\n",
       "      <td>3</td>\n",
       "      <td>moscow, yukon territory, russia</td>\n",
       "      <td>NaN</td>\n",
       "    </tr>\n",
       "    <tr>\n",
       "      <th>3</th>\n",
       "      <td>4</td>\n",
       "      <td>porto, v.n.gaia, portugal</td>\n",
       "      <td>17.0</td>\n",
       "    </tr>\n",
       "    <tr>\n",
       "      <th>4</th>\n",
       "      <td>5</td>\n",
       "      <td>farnborough, hants, united kingdom</td>\n",
       "      <td>NaN</td>\n",
       "    </tr>\n",
       "  </tbody>\n",
       "</table>\n",
       "</div>"
      ],
      "text/plain": [
       "   UserId                            Location   Age\n",
       "0       1                  nyc, new york, usa   NaN\n",
       "1       2           stockton, california, usa  18.0\n",
       "2       3     moscow, yukon territory, russia   NaN\n",
       "3       4           porto, v.n.gaia, portugal  17.0\n",
       "4       5  farnborough, hants, united kingdom   NaN"
      ]
     },
     "execution_count": 7,
     "metadata": {},
     "output_type": "execute_result"
    }
   ],
   "source": [
    "recom_sys.users.head()"
   ]
  },
  {
   "cell_type": "code",
   "execution_count": 8,
   "id": "2e44582c",
   "metadata": {},
   "outputs": [
    {
     "data": {
      "text/plain": [
       "(278858, 3)"
      ]
     },
     "execution_count": 8,
     "metadata": {},
     "output_type": "execute_result"
    }
   ],
   "source": [
    "recom_sys.users.shape"
   ]
  },
  {
   "cell_type": "code",
   "execution_count": 9,
   "id": "eeaaaef3",
   "metadata": {},
   "outputs": [
    {
     "data": {
      "text/html": [
       "<div>\n",
       "<style scoped>\n",
       "    .dataframe tbody tr th:only-of-type {\n",
       "        vertical-align: middle;\n",
       "    }\n",
       "\n",
       "    .dataframe tbody tr th {\n",
       "        vertical-align: top;\n",
       "    }\n",
       "\n",
       "    .dataframe thead th {\n",
       "        text-align: right;\n",
       "    }\n",
       "</style>\n",
       "<table border=\"1\" class=\"dataframe\">\n",
       "  <thead>\n",
       "    <tr style=\"text-align: right;\">\n",
       "      <th></th>\n",
       "      <th>UserId</th>\n",
       "      <th>ISBN</th>\n",
       "      <th>BookRating</th>\n",
       "    </tr>\n",
       "  </thead>\n",
       "  <tbody>\n",
       "    <tr>\n",
       "      <th>0</th>\n",
       "      <td>276725</td>\n",
       "      <td>034545104X</td>\n",
       "      <td>0</td>\n",
       "    </tr>\n",
       "    <tr>\n",
       "      <th>1</th>\n",
       "      <td>276726</td>\n",
       "      <td>0155061224</td>\n",
       "      <td>5</td>\n",
       "    </tr>\n",
       "    <tr>\n",
       "      <th>2</th>\n",
       "      <td>276727</td>\n",
       "      <td>0446520802</td>\n",
       "      <td>0</td>\n",
       "    </tr>\n",
       "    <tr>\n",
       "      <th>3</th>\n",
       "      <td>276729</td>\n",
       "      <td>052165615X</td>\n",
       "      <td>3</td>\n",
       "    </tr>\n",
       "    <tr>\n",
       "      <th>4</th>\n",
       "      <td>276729</td>\n",
       "      <td>0521795028</td>\n",
       "      <td>6</td>\n",
       "    </tr>\n",
       "  </tbody>\n",
       "</table>\n",
       "</div>"
      ],
      "text/plain": [
       "   UserId        ISBN  BookRating\n",
       "0  276725  034545104X           0\n",
       "1  276726  0155061224           5\n",
       "2  276727  0446520802           0\n",
       "3  276729  052165615X           3\n",
       "4  276729  0521795028           6"
      ]
     },
     "execution_count": 9,
     "metadata": {},
     "output_type": "execute_result"
    }
   ],
   "source": [
    "recom_sys.ratings.head()"
   ]
  },
  {
   "cell_type": "code",
   "execution_count": 10,
   "id": "8c5656c3",
   "metadata": {},
   "outputs": [
    {
     "data": {
      "text/plain": [
       "(1149780, 3)"
      ]
     },
     "execution_count": 10,
     "metadata": {},
     "output_type": "execute_result"
    }
   ],
   "source": [
    "recom_sys.ratings.shape"
   ]
  },
  {
   "cell_type": "code",
   "execution_count": 11,
   "id": "7e65e2e2",
   "metadata": {},
   "outputs": [
    {
     "data": {
      "text/plain": [
       "Decimal('5.000')"
      ]
     },
     "execution_count": 11,
     "metadata": {},
     "output_type": "execute_result"
    }
   ],
   "source": [
    "recom_sys.minkowski_distance_similarity(250764,250709)"
   ]
  },
  {
   "cell_type": "code",
   "execution_count": 12,
   "id": "a94e2c7f",
   "metadata": {},
   "outputs": [
    {
     "data": {
      "text/plain": [
       "15.524174696260024"
      ]
     },
     "execution_count": 12,
     "metadata": {},
     "output_type": "execute_result"
    }
   ],
   "source": [
    "recom_sys.squared_euclidean_similarity(250764,278418)"
   ]
  },
  {
   "cell_type": "code",
   "execution_count": 13,
   "id": "8974c02c",
   "metadata": {},
   "outputs": [
    {
     "data": {
      "text/plain": [
       "SpearmanrResult(correlation=-0.02517432757079305, pvalue=0.7323511216101773)"
      ]
     },
     "execution_count": 13,
     "metadata": {},
     "output_type": "execute_result"
    }
   ],
   "source": [
    "recom_sys.spearman_correlation_distance(278418,76352)"
   ]
  },
  {
   "cell_type": "code",
   "execution_count": 14,
   "id": "44688004",
   "metadata": {},
   "outputs": [
    {
     "data": {
      "text/plain": [
       "8"
      ]
     },
     "execution_count": 14,
     "metadata": {},
     "output_type": "execute_result"
    }
   ],
   "source": [
    "recom_sys.chebyshave_distance(278418,250764)"
   ]
  },
  {
   "cell_type": "code",
   "execution_count": 15,
   "id": "0ac8797e",
   "metadata": {},
   "outputs": [
    {
     "data": {
      "text/plain": [
       "0.0"
      ]
     },
     "execution_count": 15,
     "metadata": {},
     "output_type": "execute_result"
    }
   ],
   "source": [
    "recom_sys.cosine_similarity_new(1555878199,1562010182)"
   ]
  },
  {
   "cell_type": "code",
   "execution_count": 16,
   "id": "c18c7d67",
   "metadata": {},
   "outputs": [
    {
     "data": {
      "text/html": [
       "<div>\n",
       "<style scoped>\n",
       "    .dataframe tbody tr th:only-of-type {\n",
       "        vertical-align: middle;\n",
       "    }\n",
       "\n",
       "    .dataframe tbody tr th {\n",
       "        vertical-align: top;\n",
       "    }\n",
       "\n",
       "    .dataframe thead th {\n",
       "        text-align: right;\n",
       "    }\n",
       "</style>\n",
       "<table border=\"1\" class=\"dataframe\">\n",
       "  <thead>\n",
       "    <tr style=\"text-align: right;\">\n",
       "      <th></th>\n",
       "      <th>ISBN</th>\n",
       "      <th>BookRating</th>\n",
       "      <th>Book-Title</th>\n",
       "      <th>Book-Author</th>\n",
       "      <th>YearofPublication</th>\n",
       "      <th>Publisher</th>\n",
       "      <th>Image-URL-S</th>\n",
       "      <th>Image-URL-M</th>\n",
       "      <th>Image-URL-L</th>\n",
       "    </tr>\n",
       "  </thead>\n",
       "  <tbody>\n",
       "    <tr>\n",
       "      <th>0</th>\n",
       "      <td>0971880107</td>\n",
       "      <td>2502</td>\n",
       "      <td>Wild Animus</td>\n",
       "      <td>Rich Shapero</td>\n",
       "      <td>2004</td>\n",
       "      <td>Too Far</td>\n",
       "      <td>http://images.amazon.com/images/P/0971880107.0...</td>\n",
       "      <td>http://images.amazon.com/images/P/0971880107.0...</td>\n",
       "      <td>http://images.amazon.com/images/P/0971880107.0...</td>\n",
       "    </tr>\n",
       "    <tr>\n",
       "      <th>1</th>\n",
       "      <td>0316666343</td>\n",
       "      <td>1295</td>\n",
       "      <td>The Lovely Bones: A Novel</td>\n",
       "      <td>Alice Sebold</td>\n",
       "      <td>2002</td>\n",
       "      <td>Little, Brown</td>\n",
       "      <td>http://images.amazon.com/images/P/0316666343.0...</td>\n",
       "      <td>http://images.amazon.com/images/P/0316666343.0...</td>\n",
       "      <td>http://images.amazon.com/images/P/0316666343.0...</td>\n",
       "    </tr>\n",
       "    <tr>\n",
       "      <th>2</th>\n",
       "      <td>0385504209</td>\n",
       "      <td>883</td>\n",
       "      <td>The Da Vinci Code</td>\n",
       "      <td>Dan Brown</td>\n",
       "      <td>2003</td>\n",
       "      <td>Doubleday</td>\n",
       "      <td>http://images.amazon.com/images/P/0385504209.0...</td>\n",
       "      <td>http://images.amazon.com/images/P/0385504209.0...</td>\n",
       "      <td>http://images.amazon.com/images/P/0385504209.0...</td>\n",
       "    </tr>\n",
       "    <tr>\n",
       "      <th>3</th>\n",
       "      <td>0060928336</td>\n",
       "      <td>732</td>\n",
       "      <td>Divine Secrets of the Ya-Ya Sisterhood: A Novel</td>\n",
       "      <td>Rebecca Wells</td>\n",
       "      <td>1997</td>\n",
       "      <td>Perennial</td>\n",
       "      <td>http://images.amazon.com/images/P/0060928336.0...</td>\n",
       "      <td>http://images.amazon.com/images/P/0060928336.0...</td>\n",
       "      <td>http://images.amazon.com/images/P/0060928336.0...</td>\n",
       "    </tr>\n",
       "    <tr>\n",
       "      <th>4</th>\n",
       "      <td>0312195516</td>\n",
       "      <td>723</td>\n",
       "      <td>The Red Tent (Bestselling Backlist)</td>\n",
       "      <td>Anita Diamant</td>\n",
       "      <td>1998</td>\n",
       "      <td>Picador USA</td>\n",
       "      <td>http://images.amazon.com/images/P/0312195516.0...</td>\n",
       "      <td>http://images.amazon.com/images/P/0312195516.0...</td>\n",
       "      <td>http://images.amazon.com/images/P/0312195516.0...</td>\n",
       "    </tr>\n",
       "    <tr>\n",
       "      <th>5</th>\n",
       "      <td>044023722X</td>\n",
       "      <td>647</td>\n",
       "      <td>A Painted House</td>\n",
       "      <td>John Grisham</td>\n",
       "      <td>2001</td>\n",
       "      <td>Dell Publishing Company</td>\n",
       "      <td>http://images.amazon.com/images/P/044023722X.0...</td>\n",
       "      <td>http://images.amazon.com/images/P/044023722X.0...</td>\n",
       "      <td>http://images.amazon.com/images/P/044023722X.0...</td>\n",
       "    </tr>\n",
       "    <tr>\n",
       "      <th>6</th>\n",
       "      <td>0142001740</td>\n",
       "      <td>615</td>\n",
       "      <td>The Secret Life of Bees</td>\n",
       "      <td>Sue Monk Kidd</td>\n",
       "      <td>2003</td>\n",
       "      <td>Penguin Books</td>\n",
       "      <td>http://images.amazon.com/images/P/0142001740.0...</td>\n",
       "      <td>http://images.amazon.com/images/P/0142001740.0...</td>\n",
       "      <td>http://images.amazon.com/images/P/0142001740.0...</td>\n",
       "    </tr>\n",
       "    <tr>\n",
       "      <th>7</th>\n",
       "      <td>067976402X</td>\n",
       "      <td>614</td>\n",
       "      <td>Snow Falling on Cedars</td>\n",
       "      <td>David Guterson</td>\n",
       "      <td>1995</td>\n",
       "      <td>Vintage Books USA</td>\n",
       "      <td>http://images.amazon.com/images/P/067976402X.0...</td>\n",
       "      <td>http://images.amazon.com/images/P/067976402X.0...</td>\n",
       "      <td>http://images.amazon.com/images/P/067976402X.0...</td>\n",
       "    </tr>\n",
       "    <tr>\n",
       "      <th>8</th>\n",
       "      <td>0671027360</td>\n",
       "      <td>586</td>\n",
       "      <td>Angels &amp;amp; Demons</td>\n",
       "      <td>Dan Brown</td>\n",
       "      <td>2001</td>\n",
       "      <td>Pocket Star</td>\n",
       "      <td>http://images.amazon.com/images/P/0671027360.0...</td>\n",
       "      <td>http://images.amazon.com/images/P/0671027360.0...</td>\n",
       "      <td>http://images.amazon.com/images/P/0671027360.0...</td>\n",
       "    </tr>\n",
       "    <tr>\n",
       "      <th>9</th>\n",
       "      <td>0446672211</td>\n",
       "      <td>585</td>\n",
       "      <td>Where the Heart Is (Oprah's Book Club (Paperba...</td>\n",
       "      <td>Billie Letts</td>\n",
       "      <td>1998</td>\n",
       "      <td>Warner Books</td>\n",
       "      <td>http://images.amazon.com/images/P/0446672211.0...</td>\n",
       "      <td>http://images.amazon.com/images/P/0446672211.0...</td>\n",
       "      <td>http://images.amazon.com/images/P/0446672211.0...</td>\n",
       "    </tr>\n",
       "  </tbody>\n",
       "</table>\n",
       "</div>"
      ],
      "text/plain": [
       "         ISBN  BookRating                                         Book-Title  \\\n",
       "0  0971880107        2502                                        Wild Animus   \n",
       "1  0316666343        1295                          The Lovely Bones: A Novel   \n",
       "2  0385504209         883                                  The Da Vinci Code   \n",
       "3  0060928336         732    Divine Secrets of the Ya-Ya Sisterhood: A Novel   \n",
       "4  0312195516         723                The Red Tent (Bestselling Backlist)   \n",
       "5  044023722X         647                                    A Painted House   \n",
       "6  0142001740         615                            The Secret Life of Bees   \n",
       "7  067976402X         614                             Snow Falling on Cedars   \n",
       "8  0671027360         586                                Angels &amp; Demons   \n",
       "9  0446672211         585  Where the Heart Is (Oprah's Book Club (Paperba...   \n",
       "\n",
       "      Book-Author YearofPublication                Publisher  \\\n",
       "0    Rich Shapero              2004                  Too Far   \n",
       "1    Alice Sebold              2002            Little, Brown   \n",
       "2       Dan Brown              2003                Doubleday   \n",
       "3   Rebecca Wells              1997                Perennial   \n",
       "4   Anita Diamant              1998              Picador USA   \n",
       "5    John Grisham              2001  Dell Publishing Company   \n",
       "6   Sue Monk Kidd              2003            Penguin Books   \n",
       "7  David Guterson              1995        Vintage Books USA   \n",
       "8       Dan Brown              2001              Pocket Star   \n",
       "9    Billie Letts              1998             Warner Books   \n",
       "\n",
       "                                         Image-URL-S  \\\n",
       "0  http://images.amazon.com/images/P/0971880107.0...   \n",
       "1  http://images.amazon.com/images/P/0316666343.0...   \n",
       "2  http://images.amazon.com/images/P/0385504209.0...   \n",
       "3  http://images.amazon.com/images/P/0060928336.0...   \n",
       "4  http://images.amazon.com/images/P/0312195516.0...   \n",
       "5  http://images.amazon.com/images/P/044023722X.0...   \n",
       "6  http://images.amazon.com/images/P/0142001740.0...   \n",
       "7  http://images.amazon.com/images/P/067976402X.0...   \n",
       "8  http://images.amazon.com/images/P/0671027360.0...   \n",
       "9  http://images.amazon.com/images/P/0446672211.0...   \n",
       "\n",
       "                                         Image-URL-M  \\\n",
       "0  http://images.amazon.com/images/P/0971880107.0...   \n",
       "1  http://images.amazon.com/images/P/0316666343.0...   \n",
       "2  http://images.amazon.com/images/P/0385504209.0...   \n",
       "3  http://images.amazon.com/images/P/0060928336.0...   \n",
       "4  http://images.amazon.com/images/P/0312195516.0...   \n",
       "5  http://images.amazon.com/images/P/044023722X.0...   \n",
       "6  http://images.amazon.com/images/P/0142001740.0...   \n",
       "7  http://images.amazon.com/images/P/067976402X.0...   \n",
       "8  http://images.amazon.com/images/P/0671027360.0...   \n",
       "9  http://images.amazon.com/images/P/0446672211.0...   \n",
       "\n",
       "                                         Image-URL-L  \n",
       "0  http://images.amazon.com/images/P/0971880107.0...  \n",
       "1  http://images.amazon.com/images/P/0316666343.0...  \n",
       "2  http://images.amazon.com/images/P/0385504209.0...  \n",
       "3  http://images.amazon.com/images/P/0060928336.0...  \n",
       "4  http://images.amazon.com/images/P/0312195516.0...  \n",
       "5  http://images.amazon.com/images/P/044023722X.0...  \n",
       "6  http://images.amazon.com/images/P/0142001740.0...  \n",
       "7  http://images.amazon.com/images/P/067976402X.0...  \n",
       "8  http://images.amazon.com/images/P/0671027360.0...  \n",
       "9  http://images.amazon.com/images/P/0446672211.0...  "
      ]
     },
     "execution_count": 16,
     "metadata": {},
     "output_type": "execute_result"
    }
   ],
   "source": [
    "recom_sys.print_most_rated_books()"
   ]
  },
  {
   "cell_type": "code",
   "execution_count": 17,
   "id": "9bb4f916",
   "metadata": {},
   "outputs": [
    {
     "data": {
      "image/png": "[encoded data removed]",
      "text/plain": [
       "<Figure size 432x288 with 1 Axes>"
      ]
     },
     "metadata": {
      "needs_background": "light"
     },
     "output_type": "display_data"
    }
   ],
   "source": [
    "recom_sys.plot_ratings()"
   ]
  },
  {
   "cell_type": "code",
   "execution_count": 18,
   "id": "bcb92dc9",
   "metadata": {},
   "outputs": [
    {
     "data": {
      "image/png": "[encoded data removed]",
      "text/plain": [
       "<Figure size 432x288 with 1 Axes>"
      ]
     },
     "metadata": {
      "needs_background": "light"
     },
     "output_type": "display_data"
    }
   ],
   "source": [
    "recom_sys.age_plot()"
   ]
  },
  {
   "cell_type": "code",
   "execution_count": null,
   "id": "f404c328",
   "metadata": {},
   "outputs": [],
   "source": []
  }
 ],
 "metadata": {
  "kernelspec": {
   "display_name": "Python 3",
   "language": "python",
   "name": "python3"
  },
  "language_info": {
   "codemirror_mode": {
    "name": "ipython",
    "version": 3
   },
   "file_extension": ".py",
   "mimetype": "text/x-python",
   "name": "python",
   "nbconvert_exporter": "python",
   "pygments_lexer": "ipython3",
   "version": "3.8.8"
  }
 },
 "nbformat": 4,
 "nbformat_minor": 5
}
